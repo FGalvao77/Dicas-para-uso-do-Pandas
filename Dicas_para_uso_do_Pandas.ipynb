{
  "nbformat": 4,
  "nbformat_minor": 0,
  "metadata": {
    "colab": {
      "name": "Dicas para uso do Pandas.ipynb",
      "provenance": [],
      "collapsed_sections": [],
      "authorship_tag": "ABX9TyNiWaA3kp/3tXT+kqOitxmN",
      "include_colab_link": true
    },
    "kernelspec": {
      "name": "python3",
      "display_name": "Python 3"
    },
    "language_info": {
      "name": "python"
    }
  },
  "cells": [
    {
      "cell_type": "markdown",
      "metadata": {
        "id": "view-in-github",
        "colab_type": "text"
      },
      "source": [
        "<a href=\"https://colab.research.google.com/github/FGalvao77/Dicas-para-uso-do-Pandas/blob/main/Dicas_para_uso_do_Pandas.ipynb\" target=\"_parent\"><img src=\"https://colab.research.google.com/assets/colab-badge.svg\" alt=\"Open In Colab\"/></a>"
      ]
    },
    {
      "cell_type": "markdown",
      "metadata": {
        "id": "nyQpWsZ7YRs_"
      },
      "source": [
        "# <center>Mudar valores<center>\n",
        "\n",
        "---\n",
        "\n",
        "\n",
        "## <center>Métodos dos pandas para alterar os valores de um DataFrame pandas ou uma série de pandas.<center>"
      ]
    },
    {
      "cell_type": "markdown",
      "metadata": {
        "id": "rZfxZW5qYhU9"
      },
      "source": [
        "_**<center>pandas.DataFrame.agg: Agregar em Colunas ou Linhas usando múltiplas operações<center>**_\n",
        "\n",
        "Se você deseja agregar colunas ou linhas usando uma ou mais operações, tente ``pd.DataFrame.agg``."
      ]
    },
    {
      "cell_type": "code",
      "metadata": {
        "id": "YrkBuVDJWSdo"
      },
      "source": [
        "# importando função e biblioteca necessária\n",
        "from collections import Counter\n",
        "import pandas as pd"
      ],
      "execution_count": null,
      "outputs": []
    },
    {
      "cell_type": "code",
      "metadata": {
        "id": "U8BjPre-WT2L"
      },
      "source": [
        "# definindo uma função para cálculo \n",
        "def count_two(nums: list):\n",
        "  return Counter(nums)[2]"
      ],
      "execution_count": null,
      "outputs": []
    },
    {
      "cell_type": "code",
      "metadata": {
        "colab": {
          "base_uri": "https://localhost:8080/",
          "height": 111
        },
        "id": "zOmfyHsCWTzD",
        "outputId": "c08bb474-ef26-4ea8-b12e-f9e59ecf886e"
      },
      "source": [
        "# exemplo 1\n",
        "df = pd.DataFrame(\n",
        "    {'col_1': [1, 3, 5],\n",
        "     'col_2': [2, 4, 6]}\n",
        ")\n",
        "\n",
        "df.agg(['sum', count_two])"
      ],
      "execution_count": null,
      "outputs": [
        {
          "output_type": "execute_result",
          "data": {
            "text/html": [
              "<div>\n",
              "<style scoped>\n",
              "    .dataframe tbody tr th:only-of-type {\n",
              "        vertical-align: middle;\n",
              "    }\n",
              "\n",
              "    .dataframe tbody tr th {\n",
              "        vertical-align: top;\n",
              "    }\n",
              "\n",
              "    .dataframe thead th {\n",
              "        text-align: right;\n",
              "    }\n",
              "</style>\n",
              "<table border=\"1\" class=\"dataframe\">\n",
              "  <thead>\n",
              "    <tr style=\"text-align: right;\">\n",
              "      <th></th>\n",
              "      <th>col_1</th>\n",
              "      <th>col_2</th>\n",
              "    </tr>\n",
              "  </thead>\n",
              "  <tbody>\n",
              "    <tr>\n",
              "      <th>sum</th>\n",
              "      <td>9</td>\n",
              "      <td>12</td>\n",
              "    </tr>\n",
              "    <tr>\n",
              "      <th>count_two</th>\n",
              "      <td>0</td>\n",
              "      <td>1</td>\n",
              "    </tr>\n",
              "  </tbody>\n",
              "</table>\n",
              "</div>"
            ],
            "text/plain": [
              "           col_1  col_2\n",
              "sum            9     12\n",
              "count_two      0      1"
            ]
          },
          "metadata": {},
          "execution_count": 17
        }
      ]
    },
    {
      "cell_type": "code",
      "metadata": {
        "id": "W217iSGdpjkb",
        "colab": {
          "base_uri": "https://localhost:8080/",
          "height": 111
        },
        "outputId": "e2dbeae6-ccf5-46a7-f882-985a9c1f3be9"
      },
      "source": [
        "# exemplo 2\n",
        "df = pd.DataFrame(\n",
        "    {'col_1': [1, 3, 5],\n",
        "     'col_2': [2, 4, 6], \n",
        "     'col_3': [3, 7, 3], \n",
        "     'col_4': [-3, 8, 1]}\n",
        ")\n",
        "\n",
        "df.agg(['sum', count_two])"
      ],
      "execution_count": null,
      "outputs": [
        {
          "output_type": "execute_result",
          "data": {
            "text/html": [
              "<div>\n",
              "<style scoped>\n",
              "    .dataframe tbody tr th:only-of-type {\n",
              "        vertical-align: middle;\n",
              "    }\n",
              "\n",
              "    .dataframe tbody tr th {\n",
              "        vertical-align: top;\n",
              "    }\n",
              "\n",
              "    .dataframe thead th {\n",
              "        text-align: right;\n",
              "    }\n",
              "</style>\n",
              "<table border=\"1\" class=\"dataframe\">\n",
              "  <thead>\n",
              "    <tr style=\"text-align: right;\">\n",
              "      <th></th>\n",
              "      <th>col_1</th>\n",
              "      <th>col_2</th>\n",
              "      <th>col_3</th>\n",
              "      <th>col_4</th>\n",
              "    </tr>\n",
              "  </thead>\n",
              "  <tbody>\n",
              "    <tr>\n",
              "      <th>sum</th>\n",
              "      <td>9</td>\n",
              "      <td>12</td>\n",
              "      <td>13</td>\n",
              "      <td>6</td>\n",
              "    </tr>\n",
              "    <tr>\n",
              "      <th>count_two</th>\n",
              "      <td>0</td>\n",
              "      <td>1</td>\n",
              "      <td>0</td>\n",
              "      <td>0</td>\n",
              "    </tr>\n",
              "  </tbody>\n",
              "</table>\n",
              "</div>"
            ],
            "text/plain": [
              "           col_1  col_2  col_3  col_4\n",
              "sum            9     12     13      6\n",
              "count_two      0      1      0      0"
            ]
          },
          "metadata": {},
          "execution_count": 18
        }
      ]
    },
    {
      "cell_type": "code",
      "metadata": {
        "id": "EJWU2kQwMDur"
      },
      "source": [
        ""
      ],
      "execution_count": null,
      "outputs": []
    },
    {
      "cell_type": "markdown",
      "metadata": {
        "id": "qZ19JbbdbeBv"
      },
      "source": [
        "_**<center>pandas.DataFrame.agg: Aplicar agregações diferentes\n",
        "para colunas diferentes<center>**_\n",
        "\n",
        "Se você quiser aplicar agregações diferentes a diferentes olunas, insira um dicionário de metódos para coluna e agregação e utilize o método ``pd.DataFrame.agg``"
      ]
    },
    {
      "cell_type": "code",
      "metadata": {
        "colab": {
          "base_uri": "https://localhost:8080/",
          "height": 173
        },
        "id": "Di5tqImDWTwL",
        "outputId": "7b6f5c14-8bc7-4597-9668-27f40aaec38a"
      },
      "source": [
        "# exemplo 1\n",
        "df = pd.DataFrame(\n",
        "    {'a': [1, 2, 3, 4], \n",
        "     'b': [2, 3, 4, 5]}\n",
        ")\n",
        "\n",
        "df.agg(\n",
        "    {'a': ['sum', 'mean'], \n",
        "     'b': ['min', 'max']})"
      ],
      "execution_count": null,
      "outputs": [
        {
          "output_type": "execute_result",
          "data": {
            "text/html": [
              "<div>\n",
              "<style scoped>\n",
              "    .dataframe tbody tr th:only-of-type {\n",
              "        vertical-align: middle;\n",
              "    }\n",
              "\n",
              "    .dataframe tbody tr th {\n",
              "        vertical-align: top;\n",
              "    }\n",
              "\n",
              "    .dataframe thead th {\n",
              "        text-align: right;\n",
              "    }\n",
              "</style>\n",
              "<table border=\"1\" class=\"dataframe\">\n",
              "  <thead>\n",
              "    <tr style=\"text-align: right;\">\n",
              "      <th></th>\n",
              "      <th>a</th>\n",
              "      <th>b</th>\n",
              "    </tr>\n",
              "  </thead>\n",
              "  <tbody>\n",
              "    <tr>\n",
              "      <th>max</th>\n",
              "      <td>NaN</td>\n",
              "      <td>5.0</td>\n",
              "    </tr>\n",
              "    <tr>\n",
              "      <th>mean</th>\n",
              "      <td>2.5</td>\n",
              "      <td>NaN</td>\n",
              "    </tr>\n",
              "    <tr>\n",
              "      <th>min</th>\n",
              "      <td>NaN</td>\n",
              "      <td>2.0</td>\n",
              "    </tr>\n",
              "    <tr>\n",
              "      <th>sum</th>\n",
              "      <td>10.0</td>\n",
              "      <td>NaN</td>\n",
              "    </tr>\n",
              "  </tbody>\n",
              "</table>\n",
              "</div>"
            ],
            "text/plain": [
              "         a    b\n",
              "max    NaN  5.0\n",
              "mean   2.5  NaN\n",
              "min    NaN  2.0\n",
              "sum   10.0  NaN"
            ]
          },
          "metadata": {},
          "execution_count": 21
        }
      ]
    },
    {
      "cell_type": "code",
      "metadata": {
        "id": "fb7VilK9eADn",
        "colab": {
          "base_uri": "https://localhost:8080/",
          "height": 204
        },
        "outputId": "2b965ea4-fa93-4d68-dba8-7451dd59471b"
      },
      "source": [
        "# exemplo 2\n",
        "df = pd.DataFrame(\n",
        "    {'a': [1, 2, 3, 4], \n",
        "     'b': [2, 3, 4, 5], \n",
        "     'c': [44, 41, 21, 14]}\n",
        ")\n",
        "\n",
        "df.agg(\n",
        "    {'a': ['sum', 'mean'], \n",
        "     'b': ['min', 'max'], \n",
        "     'c': ['sum', 'std', 'mean', 'min', 'max']})"
      ],
      "execution_count": null,
      "outputs": [
        {
          "output_type": "execute_result",
          "data": {
            "text/html": [
              "<div>\n",
              "<style scoped>\n",
              "    .dataframe tbody tr th:only-of-type {\n",
              "        vertical-align: middle;\n",
              "    }\n",
              "\n",
              "    .dataframe tbody tr th {\n",
              "        vertical-align: top;\n",
              "    }\n",
              "\n",
              "    .dataframe thead th {\n",
              "        text-align: right;\n",
              "    }\n",
              "</style>\n",
              "<table border=\"1\" class=\"dataframe\">\n",
              "  <thead>\n",
              "    <tr style=\"text-align: right;\">\n",
              "      <th></th>\n",
              "      <th>a</th>\n",
              "      <th>b</th>\n",
              "      <th>c</th>\n",
              "    </tr>\n",
              "  </thead>\n",
              "  <tbody>\n",
              "    <tr>\n",
              "      <th>max</th>\n",
              "      <td>NaN</td>\n",
              "      <td>5.0</td>\n",
              "      <td>44.000000</td>\n",
              "    </tr>\n",
              "    <tr>\n",
              "      <th>mean</th>\n",
              "      <td>2.5</td>\n",
              "      <td>NaN</td>\n",
              "      <td>30.000000</td>\n",
              "    </tr>\n",
              "    <tr>\n",
              "      <th>min</th>\n",
              "      <td>NaN</td>\n",
              "      <td>2.0</td>\n",
              "      <td>14.000000</td>\n",
              "    </tr>\n",
              "    <tr>\n",
              "      <th>std</th>\n",
              "      <td>NaN</td>\n",
              "      <td>NaN</td>\n",
              "      <td>14.764823</td>\n",
              "    </tr>\n",
              "    <tr>\n",
              "      <th>sum</th>\n",
              "      <td>10.0</td>\n",
              "      <td>NaN</td>\n",
              "      <td>120.000000</td>\n",
              "    </tr>\n",
              "  </tbody>\n",
              "</table>\n",
              "</div>"
            ],
            "text/plain": [
              "         a    b           c\n",
              "max    NaN  5.0   44.000000\n",
              "mean   2.5  NaN   30.000000\n",
              "min    NaN  2.0   14.000000\n",
              "std    NaN  NaN   14.764823\n",
              "sum   10.0  NaN  120.000000"
            ]
          },
          "metadata": {},
          "execution_count": 4
        }
      ]
    },
    {
      "cell_type": "markdown",
      "metadata": {
        "id": "FM-PLJxgomL1"
      },
      "source": [
        "_**<center>pandas.DataFrame.pipe: Aumente a legibilidade de seu código ao aplicar funções múltiplas a um Quadro de dados<center>**_\n",
        "\n",
        "Se você deseja aumentar a legibilidade do seu código ao aplicar várias funções a um DataFrame, use o métódo ``pd.DataFrame.pipe``"
      ]
    },
    {
      "cell_type": "code",
      "metadata": {
        "colab": {
          "base_uri": "https://localhost:8080/",
          "height": 111
        },
        "id": "x5nISFSMWTtT",
        "outputId": "d2f204fe-5b2b-4608-fdfc-234815f071ea"
      },
      "source": [
        "from textblob import TextBlob\n",
        "\n",
        "def remove_white_space(df: pd.DataFrame):\n",
        "  df['text'] = df['text'].apply(lambda row: row.strip())\n",
        "  return df\n",
        "\n",
        "def get_sentiment(df: pd.DataFrame):\n",
        "  df['sentiment'] = df['text'].apply(lambda row: \n",
        "                                     TextBlob(row).sentiment[0])\n",
        "  return df\n",
        "\n",
        "df = pd.DataFrame(\n",
        "    {'text': ['It is a beautiful day today    ', \n",
        "              '   This movie is terrible']}\n",
        ")\n",
        "\n",
        "df = (df.pipe(remove_white_space).\n",
        "      pipe(get_sentiment))\n",
        "\n",
        "df"
      ],
      "execution_count": null,
      "outputs": [
        {
          "output_type": "execute_result",
          "data": {
            "text/html": [
              "<div>\n",
              "<style scoped>\n",
              "    .dataframe tbody tr th:only-of-type {\n",
              "        vertical-align: middle;\n",
              "    }\n",
              "\n",
              "    .dataframe tbody tr th {\n",
              "        vertical-align: top;\n",
              "    }\n",
              "\n",
              "    .dataframe thead th {\n",
              "        text-align: right;\n",
              "    }\n",
              "</style>\n",
              "<table border=\"1\" class=\"dataframe\">\n",
              "  <thead>\n",
              "    <tr style=\"text-align: right;\">\n",
              "      <th></th>\n",
              "      <th>text</th>\n",
              "      <th>sentiment</th>\n",
              "    </tr>\n",
              "  </thead>\n",
              "  <tbody>\n",
              "    <tr>\n",
              "      <th>0</th>\n",
              "      <td>It is a beautiful day today</td>\n",
              "      <td>0.85</td>\n",
              "    </tr>\n",
              "    <tr>\n",
              "      <th>1</th>\n",
              "      <td>This movie is terrible</td>\n",
              "      <td>-1.00</td>\n",
              "    </tr>\n",
              "  </tbody>\n",
              "</table>\n",
              "</div>"
            ],
            "text/plain": [
              "                          text  sentiment\n",
              "0  It is a beautiful day today       0.85\n",
              "1       This movie is terrible      -1.00"
            ]
          },
          "metadata": {},
          "execution_count": 19
        }
      ]
    },
    {
      "cell_type": "code",
      "metadata": {
        "id": "jh8S237NWTqb",
        "colab": {
          "base_uri": "https://localhost:8080/",
          "height": 111
        },
        "outputId": "30311c1d-ae7d-4183-d676-e2ac77f815e9"
      },
      "source": [
        "def remove_white_space(df: pd.DataFrame):\n",
        "  df['text'] = df['text'].apply(lambda row: row.strip())\n",
        "  return df\n",
        "\n",
        "def get_sentiment(df: pd.DataFrame):\n",
        "  df['sentiment'] = df['text'].apply(lambda row: \n",
        "                                     TextBlob(row).sentiment[0])\n",
        "  return df\n",
        "\n",
        "df = pd.DataFrame(\n",
        "    {'text': ['I am not terrible    ', \n",
        "              '   You are very happy']}\n",
        ")\n",
        "\n",
        "df = (df.pipe(remove_white_space).\n",
        "      pipe(get_sentiment))\n",
        "\n",
        "df"
      ],
      "execution_count": null,
      "outputs": [
        {
          "output_type": "execute_result",
          "data": {
            "text/html": [
              "<div>\n",
              "<style scoped>\n",
              "    .dataframe tbody tr th:only-of-type {\n",
              "        vertical-align: middle;\n",
              "    }\n",
              "\n",
              "    .dataframe tbody tr th {\n",
              "        vertical-align: top;\n",
              "    }\n",
              "\n",
              "    .dataframe thead th {\n",
              "        text-align: right;\n",
              "    }\n",
              "</style>\n",
              "<table border=\"1\" class=\"dataframe\">\n",
              "  <thead>\n",
              "    <tr style=\"text-align: right;\">\n",
              "      <th></th>\n",
              "      <th>text</th>\n",
              "      <th>sentiment</th>\n",
              "    </tr>\n",
              "  </thead>\n",
              "  <tbody>\n",
              "    <tr>\n",
              "      <th>0</th>\n",
              "      <td>I am not terrible</td>\n",
              "      <td>0.5</td>\n",
              "    </tr>\n",
              "    <tr>\n",
              "      <th>1</th>\n",
              "      <td>You are very happy</td>\n",
              "      <td>1.0</td>\n",
              "    </tr>\n",
              "  </tbody>\n",
              "</table>\n",
              "</div>"
            ],
            "text/plain": [
              "                 text  sentiment\n",
              "0   I am not terrible        0.5\n",
              "1  You are very happy        1.0"
            ]
          },
          "metadata": {},
          "execution_count": 20
        }
      ]
    },
    {
      "cell_type": "code",
      "metadata": {
        "colab": {
          "base_uri": "https://localhost:8080/",
          "height": 111
        },
        "id": "1GtIBGi2erRE",
        "outputId": "046d0fe4-3489-4d1f-b0b7-f33481cfaff9"
      },
      "source": [
        "def remove_white_space(df: pd.DataFrame):\n",
        "  df['text'] = df['text'].apply(lambda row: row.strip())\n",
        "  return df\n",
        "\n",
        "def get_sentiment(df: pd.DataFrame):\n",
        "  df['sentiment'] = df['text'].apply(lambda row: \n",
        "                                     TextBlob(row).sentiment[0])\n",
        "  return df\n",
        "\n",
        "df = pd.DataFrame(\n",
        "    {'text': ['We are now fine!    ', \n",
        "              '   You are beautiful and wonderful!']}\n",
        ")\n",
        "\n",
        "df = (df.pipe(remove_white_space).\n",
        "      pipe(get_sentiment))\n",
        "\n",
        "df"
      ],
      "execution_count": null,
      "outputs": [
        {
          "output_type": "execute_result",
          "data": {
            "text/html": [
              "<div>\n",
              "<style scoped>\n",
              "    .dataframe tbody tr th:only-of-type {\n",
              "        vertical-align: middle;\n",
              "    }\n",
              "\n",
              "    .dataframe tbody tr th {\n",
              "        vertical-align: top;\n",
              "    }\n",
              "\n",
              "    .dataframe thead th {\n",
              "        text-align: right;\n",
              "    }\n",
              "</style>\n",
              "<table border=\"1\" class=\"dataframe\">\n",
              "  <thead>\n",
              "    <tr style=\"text-align: right;\">\n",
              "      <th></th>\n",
              "      <th>text</th>\n",
              "      <th>sentiment</th>\n",
              "    </tr>\n",
              "  </thead>\n",
              "  <tbody>\n",
              "    <tr>\n",
              "      <th>0</th>\n",
              "      <td>We are now fine!</td>\n",
              "      <td>0.520833</td>\n",
              "    </tr>\n",
              "    <tr>\n",
              "      <th>1</th>\n",
              "      <td>You are beautiful and wonderful!</td>\n",
              "      <td>0.925000</td>\n",
              "    </tr>\n",
              "  </tbody>\n",
              "</table>\n",
              "</div>"
            ],
            "text/plain": [
              "                               text  sentiment\n",
              "0                  We are now fine!   0.520833\n",
              "1  You are beautiful and wonderful!   0.925000"
            ]
          },
          "metadata": {},
          "execution_count": 11
        }
      ]
    },
    {
      "cell_type": "code",
      "metadata": {
        "colab": {
          "base_uri": "https://localhost:8080/",
          "height": 111
        },
        "id": "zxYwhP0ENFi4",
        "outputId": "737dd658-0a31-4716-916e-4d8dec39268a"
      },
      "source": [
        "def remove_white_space(df: pd.DataFrame):\n",
        "  df['text'] = df['text'].apply(lambda row: row.strip())\n",
        "  return df\n",
        "\n",
        "def get_sentiment(df: pd.DataFrame):\n",
        "  df['sentiment'] = df['text'].apply(lambda row: \n",
        "                                     TextBlob(row).sentiment[0])\n",
        "  return df\n",
        "\n",
        "df = pd.DataFrame(\n",
        "    {'text': ['This is very bad!    ', \n",
        "              '   Happy birthday!']}\n",
        ")\n",
        "\n",
        "df = (df.pipe(remove_white_space).\n",
        "      pipe(get_sentiment))\n",
        "\n",
        "df"
      ],
      "execution_count": null,
      "outputs": [
        {
          "output_type": "execute_result",
          "data": {
            "text/html": [
              "<div>\n",
              "<style scoped>\n",
              "    .dataframe tbody tr th:only-of-type {\n",
              "        vertical-align: middle;\n",
              "    }\n",
              "\n",
              "    .dataframe tbody tr th {\n",
              "        vertical-align: top;\n",
              "    }\n",
              "\n",
              "    .dataframe thead th {\n",
              "        text-align: right;\n",
              "    }\n",
              "</style>\n",
              "<table border=\"1\" class=\"dataframe\">\n",
              "  <thead>\n",
              "    <tr style=\"text-align: right;\">\n",
              "      <th></th>\n",
              "      <th>text</th>\n",
              "      <th>sentiment</th>\n",
              "    </tr>\n",
              "  </thead>\n",
              "  <tbody>\n",
              "    <tr>\n",
              "      <th>0</th>\n",
              "      <td>This is very bad!</td>\n",
              "      <td>-1.0</td>\n",
              "    </tr>\n",
              "    <tr>\n",
              "      <th>1</th>\n",
              "      <td>Happy birthday!</td>\n",
              "      <td>1.0</td>\n",
              "    </tr>\n",
              "  </tbody>\n",
              "</table>\n",
              "</div>"
            ],
            "text/plain": [
              "                text  sentiment\n",
              "0  This is very bad!       -1.0\n",
              "1    Happy birthday!        1.0"
            ]
          },
          "metadata": {},
          "execution_count": 26
        }
      ]
    },
    {
      "cell_type": "code",
      "metadata": {
        "colab": {
          "base_uri": "https://localhost:8080/",
          "height": 111
        },
        "id": "_-DjbsNCYFIc",
        "outputId": "5ed39e7a-9789-45f7-d70d-1e8ec5daef5c"
      },
      "source": [
        "from textblob import TextBlob\n",
        "import pandas as pd\n",
        "\n",
        "def remove_white_space(df: pd.DataFrame):\n",
        "  df['text'] = df['text'].apply(lambda row: row.strip())\n",
        "  return df\n",
        "\n",
        "def get_sentiment(df: pd.DataFrame):\n",
        "  df['sentiment'] = df['text'].apply(lambda row: \n",
        "                                     TextBlob(row).sentiment[0])\n",
        "  return df\n",
        "\n",
        "df = pd.DataFrame(\n",
        "    {'text': ['Today is beautiful and wonderful as your beautiful smile, my love!    ', \n",
        "              '   You are not fine!']}\n",
        ")\n",
        "\n",
        "df = (df.pipe(remove_white_space).\n",
        "      pipe(get_sentiment))\n",
        "\n",
        "df"
      ],
      "execution_count": null,
      "outputs": [
        {
          "output_type": "execute_result",
          "data": {
            "text/html": [
              "<div>\n",
              "<style scoped>\n",
              "    .dataframe tbody tr th:only-of-type {\n",
              "        vertical-align: middle;\n",
              "    }\n",
              "\n",
              "    .dataframe tbody tr th {\n",
              "        vertical-align: top;\n",
              "    }\n",
              "\n",
              "    .dataframe thead th {\n",
              "        text-align: right;\n",
              "    }\n",
              "</style>\n",
              "<table border=\"1\" class=\"dataframe\">\n",
              "  <thead>\n",
              "    <tr style=\"text-align: right;\">\n",
              "      <th></th>\n",
              "      <th>text</th>\n",
              "      <th>sentiment</th>\n",
              "    </tr>\n",
              "  </thead>\n",
              "  <tbody>\n",
              "    <tr>\n",
              "      <th>0</th>\n",
              "      <td>Today is beautiful and wonderful as your beaut...</td>\n",
              "      <td>0.725000</td>\n",
              "    </tr>\n",
              "    <tr>\n",
              "      <th>1</th>\n",
              "      <td>You are not fine!</td>\n",
              "      <td>-0.260417</td>\n",
              "    </tr>\n",
              "  </tbody>\n",
              "</table>\n",
              "</div>"
            ],
            "text/plain": [
              "                                                text  sentiment\n",
              "0  Today is beautiful and wonderful as your beaut...   0.725000\n",
              "1                                  You are not fine!  -0.260417"
            ]
          },
          "metadata": {},
          "execution_count": 4
        }
      ]
    },
    {
      "cell_type": "code",
      "metadata": {
        "colab": {
          "base_uri": "https://localhost:8080/",
          "height": 111
        },
        "id": "9qlDarfbZ5B0",
        "outputId": "0fa02e97-0b6d-4a80-ea92-df8b96243f0f"
      },
      "source": [
        "from textblob import TextBlob\n",
        "import pandas as pd\n",
        "\n",
        "def remove_white_space(df: pd.DataFrame):\n",
        "  df['text'] = df['text'].apply(lambda row: row.strip())\n",
        "  return df\n",
        "\n",
        "def get_sentiment(df: pd.DataFrame):\n",
        "  df['sentiment'] = df['text'].apply(lambda row: \n",
        "                                     TextBlob(row).sentiment[0])\n",
        "  return df\n",
        "\n",
        "df = pd.DataFrame(\n",
        "    {'text': ['beautiful, wonderful, love, peace!    ', \n",
        "              '   hate, war, bad!']}\n",
        ")\n",
        "\n",
        "df = (df.pipe(remove_white_space).\n",
        "      pipe(get_sentiment))\n",
        "\n",
        "df"
      ],
      "execution_count": null,
      "outputs": [
        {
          "output_type": "execute_result",
          "data": {
            "text/html": [
              "<div>\n",
              "<style scoped>\n",
              "    .dataframe tbody tr th:only-of-type {\n",
              "        vertical-align: middle;\n",
              "    }\n",
              "\n",
              "    .dataframe tbody tr th {\n",
              "        vertical-align: top;\n",
              "    }\n",
              "\n",
              "    .dataframe thead th {\n",
              "        text-align: right;\n",
              "    }\n",
              "</style>\n",
              "<table border=\"1\" class=\"dataframe\">\n",
              "  <thead>\n",
              "    <tr style=\"text-align: right;\">\n",
              "      <th></th>\n",
              "      <th>text</th>\n",
              "      <th>sentiment</th>\n",
              "    </tr>\n",
              "  </thead>\n",
              "  <tbody>\n",
              "    <tr>\n",
              "      <th>0</th>\n",
              "      <td>beautiful, wonderful, love, peace!</td>\n",
              "      <td>0.8250</td>\n",
              "    </tr>\n",
              "    <tr>\n",
              "      <th>1</th>\n",
              "      <td>hate, war, bad, blood!</td>\n",
              "      <td>-0.8375</td>\n",
              "    </tr>\n",
              "  </tbody>\n",
              "</table>\n",
              "</div>"
            ],
            "text/plain": [
              "                                 text  sentiment\n",
              "0  beautiful, wonderful, love, peace!     0.8250\n",
              "1              hate, war, bad, blood!    -0.8375"
            ]
          },
          "metadata": {},
          "execution_count": 6
        }
      ]
    },
    {
      "cell_type": "code",
      "metadata": {
        "id": "jjft8l3yeqmI"
      },
      "source": [
        ""
      ],
      "execution_count": null,
      "outputs": []
    },
    {
      "cell_type": "markdown",
      "metadata": {
        "id": "S7xvgj_jpk9I"
      },
      "source": [
        "_**<center>pandas.Series.map: Alterar os valores de uma série de pandas\n",
        "Usando um Dicionário<center>**_\n",
        "\n",
        "If you want to change values of a pandas Series using a dictionary, use o métódo ``pd.Series.map``"
      ]
    },
    {
      "cell_type": "code",
      "metadata": {
        "colab": {
          "base_uri": "https://localhost:8080/"
        },
        "id": "_JuKWrNwWTnl",
        "outputId": "85336538-81a7-4c0a-c802-55b3bf20a3a8"
      },
      "source": [
        "s = pd.Series(['a', 'b', 'c'])\n",
        "\n",
        "s.map({'a': 1,\n",
        "       'b': 2,\n",
        "       'c': 3})"
      ],
      "execution_count": null,
      "outputs": [
        {
          "output_type": "execute_result",
          "data": {
            "text/plain": [
              "0    1\n",
              "1    2\n",
              "2    3\n",
              "dtype: int64"
            ]
          },
          "metadata": {},
          "execution_count": 27
        }
      ]
    },
    {
      "cell_type": "code",
      "metadata": {
        "id": "TsPWHnavWTk0"
      },
      "source": [
        ""
      ],
      "execution_count": null,
      "outputs": []
    },
    {
      "cell_type": "markdown",
      "metadata": {
        "id": "F9SH_HtSp71h"
      },
      "source": [
        "_**<center>pandas.Series.str: Manipular dados de texto em um pandas Series<center>**_\n",
        "\n",
        "Se você estiver trabalhando os dados de texto em uma série pandas, em vez de criar suas próprias funções, usar o métódo ``pd.Series.str`` para acessar métodos comuns para processar string.\n",
        "\n",
        "O código abaixo mostra como converter o texto para minúsculas e, em seguida, substituir “e” por “a”."
      ]
    },
    {
      "cell_type": "code",
      "metadata": {
        "colab": {
          "base_uri": "https://localhost:8080/"
        },
        "id": "IUaOHMyrePqo",
        "outputId": "d49e1dcd-e9ea-4c5c-d984-5978960e351b"
      },
      "source": [
        "fruits = pd.Series(['Orange', 'Apple', 'Grape'])\n",
        "fruits"
      ],
      "execution_count": null,
      "outputs": [
        {
          "output_type": "execute_result",
          "data": {
            "text/plain": [
              "0    Orange\n",
              "1     Apple\n",
              "2     Grape\n",
              "dtype: object"
            ]
          },
          "metadata": {},
          "execution_count": 28
        }
      ]
    },
    {
      "cell_type": "code",
      "metadata": {
        "colab": {
          "base_uri": "https://localhost:8080/"
        },
        "id": "fLlxw1DuePoZ",
        "outputId": "3f42e5d0-a1ca-43db-ad5a-2b655505dd3b"
      },
      "source": [
        "fruits.str.lower()"
      ],
      "execution_count": null,
      "outputs": [
        {
          "output_type": "execute_result",
          "data": {
            "text/plain": [
              "0    orange\n",
              "1     apple\n",
              "2     grape\n",
              "dtype: object"
            ]
          },
          "metadata": {},
          "execution_count": 29
        }
      ]
    },
    {
      "cell_type": "code",
      "metadata": {
        "colab": {
          "base_uri": "https://localhost:8080/"
        },
        "id": "tAob_4RXePk6",
        "outputId": "e43ec8b0-3f89-40d3-ff92-67819e8be56c"
      },
      "source": [
        "fruits.str.lower().str.replace('e', 'a')"
      ],
      "execution_count": null,
      "outputs": [
        {
          "output_type": "execute_result",
          "data": {
            "text/plain": [
              "0    oranga\n",
              "1     appla\n",
              "2     grapa\n",
              "dtype: object"
            ]
          },
          "metadata": {},
          "execution_count": 30
        }
      ]
    },
    {
      "cell_type": "markdown",
      "metadata": {
        "id": "gU7jtfeBqmLg"
      },
      "source": [
        "Encontre outros métodos de string úteis [aqui](https://pandas.pydata.org/pandas-docs/stable/user_guide/text.html#string-methods)."
      ]
    },
    {
      "cell_type": "code",
      "metadata": {
        "id": "ky2VlzyxePfZ"
      },
      "source": [
        ""
      ],
      "execution_count": null,
      "outputs": []
    },
    {
      "cell_type": "markdown",
      "metadata": {
        "id": "1Jv8g2XZqz-U"
      },
      "source": [
        "_**<center>set_categories in Pandas: Classificar coluna categórica por um\n",
        "Pedidos Específicos<center>**_\n",
        "\n",
        "Se você quiser classificar a coluna categórica do DataFrame do pandas por uma ordem específica, como pequeno, médio, grande, use o métódo `` df.col.cat.set_categories()``."
      ]
    },
    {
      "cell_type": "code",
      "metadata": {
        "colab": {
          "base_uri": "https://localhost:8080/",
          "height": 204
        },
        "id": "ppj_VxbmePal",
        "outputId": "4b3ba00f-bf2c-47e0-c0f0-e0dd033708f5"
      },
      "source": [
        "df = pd.DataFrame(\n",
        "    {'col_1': ['large', 'small', 'mini', 'medium', 'mini'], \n",
        "    'col_2': [1, 2, 3, 4, 5]}\n",
        ")\n",
        "\n",
        "ordered_sizes = 'large', 'medium', 'small', 'mini'\n",
        "\n",
        "df.col_1 = df.col_1.astype('category')\n",
        "df.col_1.cat.set_categories(ordered_sizes, ordered=True, \n",
        "                            inplace=True)\n",
        "df.sort_values(by='col_1')"
      ],
      "execution_count": null,
      "outputs": [
        {
          "output_type": "execute_result",
          "data": {
            "text/html": [
              "<div>\n",
              "<style scoped>\n",
              "    .dataframe tbody tr th:only-of-type {\n",
              "        vertical-align: middle;\n",
              "    }\n",
              "\n",
              "    .dataframe tbody tr th {\n",
              "        vertical-align: top;\n",
              "    }\n",
              "\n",
              "    .dataframe thead th {\n",
              "        text-align: right;\n",
              "    }\n",
              "</style>\n",
              "<table border=\"1\" class=\"dataframe\">\n",
              "  <thead>\n",
              "    <tr style=\"text-align: right;\">\n",
              "      <th></th>\n",
              "      <th>col_1</th>\n",
              "      <th>col_2</th>\n",
              "    </tr>\n",
              "  </thead>\n",
              "  <tbody>\n",
              "    <tr>\n",
              "      <th>0</th>\n",
              "      <td>large</td>\n",
              "      <td>1</td>\n",
              "    </tr>\n",
              "    <tr>\n",
              "      <th>3</th>\n",
              "      <td>medium</td>\n",
              "      <td>4</td>\n",
              "    </tr>\n",
              "    <tr>\n",
              "      <th>1</th>\n",
              "      <td>small</td>\n",
              "      <td>2</td>\n",
              "    </tr>\n",
              "    <tr>\n",
              "      <th>2</th>\n",
              "      <td>mini</td>\n",
              "      <td>3</td>\n",
              "    </tr>\n",
              "    <tr>\n",
              "      <th>4</th>\n",
              "      <td>mini</td>\n",
              "      <td>5</td>\n",
              "    </tr>\n",
              "  </tbody>\n",
              "</table>\n",
              "</div>"
            ],
            "text/plain": [
              "    col_1  col_2\n",
              "0   large      1\n",
              "3  medium      4\n",
              "1   small      2\n",
              "2    mini      3\n",
              "4    mini      5"
            ]
          },
          "metadata": {},
          "execution_count": 31
        }
      ]
    },
    {
      "cell_type": "code",
      "metadata": {
        "id": "BYhP7XxwePYG"
      },
      "source": [
        ""
      ],
      "execution_count": null,
      "outputs": []
    },
    {
      "cell_type": "markdown",
      "metadata": {
        "id": "SbYZwPGwrjOd"
      },
      "source": [
        "_**<center>parse_dates: Converter colunas em data e hora quando\n",
        "Usando Pandas para ler arquivos CSV<center>**_\n",
        "\n",
        "Se houver colunas datetime em seu arquivo csv, use o parâmetro ``parse_dates`` quando ler arquivo csv com pandas. Isso reduz uma etapa extra para converter essas colunas de string para datetime após a leitura do arquivo."
      ]
    },
    {
      "cell_type": "code",
      "metadata": {
        "id": "acTncs4pePVh"
      },
      "source": [
        "df = pd.read_csv('/content/data.csv', sep=';', \n",
        "                 parse_dates=['date_column_1', 'date_column_2'])"
      ],
      "execution_count": null,
      "outputs": []
    },
    {
      "cell_type": "code",
      "metadata": {
        "colab": {
          "base_uri": "https://localhost:8080/",
          "height": 111
        },
        "id": "pnPx5Sh0ePS5",
        "outputId": "ea604fee-70c9-47b9-985c-d36de1776db9"
      },
      "source": [
        "df"
      ],
      "execution_count": null,
      "outputs": [
        {
          "output_type": "execute_result",
          "data": {
            "text/html": [
              "<div>\n",
              "<style scoped>\n",
              "    .dataframe tbody tr th:only-of-type {\n",
              "        vertical-align: middle;\n",
              "    }\n",
              "\n",
              "    .dataframe tbody tr th {\n",
              "        vertical-align: top;\n",
              "    }\n",
              "\n",
              "    .dataframe thead th {\n",
              "        text-align: right;\n",
              "    }\n",
              "</style>\n",
              "<table border=\"1\" class=\"dataframe\">\n",
              "  <thead>\n",
              "    <tr style=\"text-align: right;\">\n",
              "      <th></th>\n",
              "      <th>date_column_1</th>\n",
              "      <th>date_column_2</th>\n",
              "      <th>value</th>\n",
              "    </tr>\n",
              "  </thead>\n",
              "  <tbody>\n",
              "    <tr>\n",
              "      <th>0</th>\n",
              "      <td>2021-02-10</td>\n",
              "      <td>2021-02-11</td>\n",
              "      <td>3</td>\n",
              "    </tr>\n",
              "    <tr>\n",
              "      <th>1</th>\n",
              "      <td>2021-02-12</td>\n",
              "      <td>2021-02-13</td>\n",
              "      <td>3</td>\n",
              "    </tr>\n",
              "  </tbody>\n",
              "</table>\n",
              "</div>"
            ],
            "text/plain": [
              "  date_column_1 date_column_2  value\n",
              "0    2021-02-10    2021-02-11      3\n",
              "1    2021-02-12    2021-02-13      3"
            ]
          },
          "metadata": {},
          "execution_count": 34
        }
      ]
    },
    {
      "cell_type": "code",
      "metadata": {
        "colab": {
          "base_uri": "https://localhost:8080/"
        },
        "id": "GOQCBYoCePOD",
        "outputId": "c8376f7c-f757-4418-d9c3-e024fdcd5808"
      },
      "source": [
        "df.info()"
      ],
      "execution_count": null,
      "outputs": [
        {
          "output_type": "stream",
          "name": "stdout",
          "text": [
            "<class 'pandas.core.frame.DataFrame'>\n",
            "RangeIndex: 2 entries, 0 to 1\n",
            "Data columns (total 3 columns):\n",
            " #   Column         Non-Null Count  Dtype         \n",
            "---  ------         --------------  -----         \n",
            " 0   date_column_1  2 non-null      datetime64[ns]\n",
            " 1   date_column_2  2 non-null      datetime64[ns]\n",
            " 2   value          2 non-null      int64         \n",
            "dtypes: datetime64[ns](2), int64(1)\n",
            "memory usage: 176.0 bytes\n"
          ]
        }
      ]
    },
    {
      "cell_type": "code",
      "metadata": {
        "id": "WJnb5rynePK8"
      },
      "source": [
        ""
      ],
      "execution_count": null,
      "outputs": []
    },
    {
      "cell_type": "markdown",
      "metadata": {
        "id": "5bVABNr7saP8"
      },
      "source": [
        "_**<center>Pandas.Series.isin: Filtrar linhas somente se coluna\n",
        "contém valores de outra lista<center>**_\n",
        "\n",
        "Ao trabalhar com um Dataframe pandas, se você deseja selecionar as linhas quando uma coluna contém valores de outra lista, a maneira mais rápida é usar ``isin``.\n",
        "\n",
        "No exemplo abaixo, a linha 2 é filtrada porque 3 não está na lista."
      ]
    },
    {
      "cell_type": "code",
      "metadata": {
        "colab": {
          "base_uri": "https://localhost:8080/",
          "height": 142
        },
        "id": "P9M2KFYQePGA",
        "outputId": "7d7dcfc9-b30d-4ef9-df9c-e8d56b0d5cbe"
      },
      "source": [
        "df = pd.DataFrame(\n",
        "    {'a': [1, 2, 3], \n",
        "     'b': [4, 5, 6]}\n",
        ")\n",
        "\n",
        "df"
      ],
      "execution_count": null,
      "outputs": [
        {
          "output_type": "execute_result",
          "data": {
            "text/html": [
              "<div>\n",
              "<style scoped>\n",
              "    .dataframe tbody tr th:only-of-type {\n",
              "        vertical-align: middle;\n",
              "    }\n",
              "\n",
              "    .dataframe tbody tr th {\n",
              "        vertical-align: top;\n",
              "    }\n",
              "\n",
              "    .dataframe thead th {\n",
              "        text-align: right;\n",
              "    }\n",
              "</style>\n",
              "<table border=\"1\" class=\"dataframe\">\n",
              "  <thead>\n",
              "    <tr style=\"text-align: right;\">\n",
              "      <th></th>\n",
              "      <th>a</th>\n",
              "      <th>b</th>\n",
              "    </tr>\n",
              "  </thead>\n",
              "  <tbody>\n",
              "    <tr>\n",
              "      <th>0</th>\n",
              "      <td>1</td>\n",
              "      <td>4</td>\n",
              "    </tr>\n",
              "    <tr>\n",
              "      <th>1</th>\n",
              "      <td>2</td>\n",
              "      <td>5</td>\n",
              "    </tr>\n",
              "    <tr>\n",
              "      <th>2</th>\n",
              "      <td>3</td>\n",
              "      <td>6</td>\n",
              "    </tr>\n",
              "  </tbody>\n",
              "</table>\n",
              "</div>"
            ],
            "text/plain": [
              "   a  b\n",
              "0  1  4\n",
              "1  2  5\n",
              "2  3  6"
            ]
          },
          "metadata": {},
          "execution_count": 36
        }
      ]
    },
    {
      "cell_type": "code",
      "metadata": {
        "colab": {
          "base_uri": "https://localhost:8080/"
        },
        "id": "h0ggf53ihxKZ",
        "outputId": "2740a2a1-aee1-48af-b057-8f88dd4ba2c3"
      },
      "source": [
        "l = [1,2,6,7]\n",
        "df.a.isin(l)"
      ],
      "execution_count": null,
      "outputs": [
        {
          "output_type": "execute_result",
          "data": {
            "text/plain": [
              "0     True\n",
              "1     True\n",
              "2    False\n",
              "Name: a, dtype: bool"
            ]
          },
          "metadata": {},
          "execution_count": 37
        }
      ]
    },
    {
      "cell_type": "code",
      "metadata": {
        "colab": {
          "base_uri": "https://localhost:8080/",
          "height": 111
        },
        "id": "Y758PEtYhxHr",
        "outputId": "e458bffc-132a-4d26-fab9-032db67ebc22"
      },
      "source": [
        "df = df[df.a.isin(l)]\n",
        "df"
      ],
      "execution_count": null,
      "outputs": [
        {
          "output_type": "execute_result",
          "data": {
            "text/html": [
              "<div>\n",
              "<style scoped>\n",
              "    .dataframe tbody tr th:only-of-type {\n",
              "        vertical-align: middle;\n",
              "    }\n",
              "\n",
              "    .dataframe tbody tr th {\n",
              "        vertical-align: top;\n",
              "    }\n",
              "\n",
              "    .dataframe thead th {\n",
              "        text-align: right;\n",
              "    }\n",
              "</style>\n",
              "<table border=\"1\" class=\"dataframe\">\n",
              "  <thead>\n",
              "    <tr style=\"text-align: right;\">\n",
              "      <th></th>\n",
              "      <th>a</th>\n",
              "      <th>b</th>\n",
              "    </tr>\n",
              "  </thead>\n",
              "  <tbody>\n",
              "    <tr>\n",
              "      <th>0</th>\n",
              "      <td>1</td>\n",
              "      <td>4</td>\n",
              "    </tr>\n",
              "    <tr>\n",
              "      <th>1</th>\n",
              "      <td>2</td>\n",
              "      <td>5</td>\n",
              "    </tr>\n",
              "  </tbody>\n",
              "</table>\n",
              "</div>"
            ],
            "text/plain": [
              "   a  b\n",
              "0  1  4\n",
              "1  2  5"
            ]
          },
          "metadata": {},
          "execution_count": 38
        }
      ]
    },
    {
      "cell_type": "code",
      "metadata": {
        "id": "rBlHaOF5hxE8"
      },
      "source": [
        ""
      ],
      "execution_count": null,
      "outputs": []
    },
    {
      "cell_type": "markdown",
      "metadata": {
        "id": "3UQnCcKRtPk8"
      },
      "source": [
        "_**<center>Especificar sufixos ao usar: df.merge()<center>**_\n",
        "\n",
        "Se você estiver mesclando 2 dataframes com os mesmos recursos usando ``df.merge()``, pode ser confuso saber a qual dataframe a_x ou a_y pertence."
      ]
    },
    {
      "cell_type": "code",
      "metadata": {
        "colab": {
          "base_uri": "https://localhost:8080/",
          "height": 142
        },
        "id": "EDegbPiDhxBu",
        "outputId": "a156dcd6-e844-4d3d-9bfe-da5008eca11d"
      },
      "source": [
        "df1 = pd.DataFrame({'left_key': [1, 2, 3], 'a': [4, 5, 6]})\n",
        "df2 = pd.DataFrame({'right_key': [1, 2, 3], 'a': [5, 6, 7]})\n",
        "\n",
        "df1.merge(df2, left_on='left_key', right_on='right_key')"
      ],
      "execution_count": null,
      "outputs": [
        {
          "output_type": "execute_result",
          "data": {
            "text/html": [
              "<div>\n",
              "<style scoped>\n",
              "    .dataframe tbody tr th:only-of-type {\n",
              "        vertical-align: middle;\n",
              "    }\n",
              "\n",
              "    .dataframe tbody tr th {\n",
              "        vertical-align: top;\n",
              "    }\n",
              "\n",
              "    .dataframe thead th {\n",
              "        text-align: right;\n",
              "    }\n",
              "</style>\n",
              "<table border=\"1\" class=\"dataframe\">\n",
              "  <thead>\n",
              "    <tr style=\"text-align: right;\">\n",
              "      <th></th>\n",
              "      <th>left_key</th>\n",
              "      <th>a_x</th>\n",
              "      <th>right_key</th>\n",
              "      <th>a_y</th>\n",
              "    </tr>\n",
              "  </thead>\n",
              "  <tbody>\n",
              "    <tr>\n",
              "      <th>0</th>\n",
              "      <td>1</td>\n",
              "      <td>4</td>\n",
              "      <td>1</td>\n",
              "      <td>5</td>\n",
              "    </tr>\n",
              "    <tr>\n",
              "      <th>1</th>\n",
              "      <td>2</td>\n",
              "      <td>5</td>\n",
              "      <td>2</td>\n",
              "      <td>6</td>\n",
              "    </tr>\n",
              "    <tr>\n",
              "      <th>2</th>\n",
              "      <td>3</td>\n",
              "      <td>6</td>\n",
              "      <td>3</td>\n",
              "      <td>7</td>\n",
              "    </tr>\n",
              "  </tbody>\n",
              "</table>\n",
              "</div>"
            ],
            "text/plain": [
              "   left_key  a_x  right_key  a_y\n",
              "0         1    4          1    5\n",
              "1         2    5          2    6\n",
              "2         3    6          3    7"
            ]
          },
          "metadata": {},
          "execution_count": 39
        }
      ]
    },
    {
      "cell_type": "markdown",
      "metadata": {
        "id": "0A4iDcfyt3bs"
      },
      "source": [
        "A melhor maneira é especificar sufixos dos recursos em cada Dataframe como abaixo. Agora a_x torna-se a_left e a_y torna-se a_right."
      ]
    },
    {
      "cell_type": "code",
      "metadata": {
        "colab": {
          "base_uri": "https://localhost:8080/",
          "height": 142
        },
        "id": "yrP4cvkthw8v",
        "outputId": "cc0d0e28-cb5a-41ef-a60c-bd49d268ac62"
      },
      "source": [
        "df1.merge(df2, left_on='left_key', right_on='right_key', \n",
        "          suffixes=('_left', '_right'))"
      ],
      "execution_count": null,
      "outputs": [
        {
          "output_type": "execute_result",
          "data": {
            "text/html": [
              "<div>\n",
              "<style scoped>\n",
              "    .dataframe tbody tr th:only-of-type {\n",
              "        vertical-align: middle;\n",
              "    }\n",
              "\n",
              "    .dataframe tbody tr th {\n",
              "        vertical-align: top;\n",
              "    }\n",
              "\n",
              "    .dataframe thead th {\n",
              "        text-align: right;\n",
              "    }\n",
              "</style>\n",
              "<table border=\"1\" class=\"dataframe\">\n",
              "  <thead>\n",
              "    <tr style=\"text-align: right;\">\n",
              "      <th></th>\n",
              "      <th>left_key</th>\n",
              "      <th>a_left</th>\n",
              "      <th>right_key</th>\n",
              "      <th>a_right</th>\n",
              "    </tr>\n",
              "  </thead>\n",
              "  <tbody>\n",
              "    <tr>\n",
              "      <th>0</th>\n",
              "      <td>1</td>\n",
              "      <td>4</td>\n",
              "      <td>1</td>\n",
              "      <td>5</td>\n",
              "    </tr>\n",
              "    <tr>\n",
              "      <th>1</th>\n",
              "      <td>2</td>\n",
              "      <td>5</td>\n",
              "      <td>2</td>\n",
              "      <td>6</td>\n",
              "    </tr>\n",
              "    <tr>\n",
              "      <th>2</th>\n",
              "      <td>3</td>\n",
              "      <td>6</td>\n",
              "      <td>3</td>\n",
              "      <td>7</td>\n",
              "    </tr>\n",
              "  </tbody>\n",
              "</table>\n",
              "</div>"
            ],
            "text/plain": [
              "   left_key  a_left  right_key  a_right\n",
              "0         1       4          1        5\n",
              "1         2       5          2        6\n",
              "2         3       6          3        7"
            ]
          },
          "metadata": {},
          "execution_count": 41
        }
      ]
    },
    {
      "cell_type": "markdown",
      "metadata": {
        "id": "J9hFWLSduDrj"
      },
      "source": [
        "Experimente se quiser que os nomes de suas colunas sejam menos confusos"
      ]
    },
    {
      "cell_type": "code",
      "metadata": {
        "id": "phtT8CFbhw63"
      },
      "source": [
        ""
      ],
      "execution_count": null,
      "outputs": []
    },
    {
      "cell_type": "markdown",
      "metadata": {
        "id": "doHe52GjuK3U"
      },
      "source": [
        "_**<center>Destaque seu DataFrame de pandas<center>**_\n",
        "\n",
        "Você já quis destacar o DataFrame do seu pandas para analisá-lo mais facilmente? Para exemplo, os valores positivos serão destacados como verdes e os valores negativos serão destacado em vermelho.\n",
        "\n",
        "Isso poderia ser feito com `` df.style.apply(highlight_condition_func)``."
      ]
    },
    {
      "cell_type": "code",
      "metadata": {
        "colab": {
          "base_uri": "https://localhost:8080/",
          "height": 173
        },
        "id": "9piNvIWkhw35",
        "outputId": "00298d2a-9c74-46fd-dbc3-ded2d5b91f62"
      },
      "source": [
        "df = pd.DataFrame(\n",
        "    {'col_1': [-5, -2, 1, 4], \n",
        "     'col_2': [2, 3, -1, 4]}\n",
        ")\n",
        "\n",
        "df"
      ],
      "execution_count": null,
      "outputs": [
        {
          "output_type": "execute_result",
          "data": {
            "text/html": [
              "<div>\n",
              "<style scoped>\n",
              "    .dataframe tbody tr th:only-of-type {\n",
              "        vertical-align: middle;\n",
              "    }\n",
              "\n",
              "    .dataframe tbody tr th {\n",
              "        vertical-align: top;\n",
              "    }\n",
              "\n",
              "    .dataframe thead th {\n",
              "        text-align: right;\n",
              "    }\n",
              "</style>\n",
              "<table border=\"1\" class=\"dataframe\">\n",
              "  <thead>\n",
              "    <tr style=\"text-align: right;\">\n",
              "      <th></th>\n",
              "      <th>col_1</th>\n",
              "      <th>col_2</th>\n",
              "    </tr>\n",
              "  </thead>\n",
              "  <tbody>\n",
              "    <tr>\n",
              "      <th>0</th>\n",
              "      <td>-5</td>\n",
              "      <td>2</td>\n",
              "    </tr>\n",
              "    <tr>\n",
              "      <th>1</th>\n",
              "      <td>-2</td>\n",
              "      <td>3</td>\n",
              "    </tr>\n",
              "    <tr>\n",
              "      <th>2</th>\n",
              "      <td>1</td>\n",
              "      <td>-1</td>\n",
              "    </tr>\n",
              "    <tr>\n",
              "      <th>3</th>\n",
              "      <td>4</td>\n",
              "      <td>4</td>\n",
              "    </tr>\n",
              "  </tbody>\n",
              "</table>\n",
              "</div>"
            ],
            "text/plain": [
              "   col_1  col_2\n",
              "0     -5      2\n",
              "1     -2      3\n",
              "2      1     -1\n",
              "3      4      4"
            ]
          },
          "metadata": {},
          "execution_count": 53
        }
      ]
    },
    {
      "cell_type": "code",
      "metadata": {
        "id": "i0ldl9yRhw1d"
      },
      "source": [
        "def highlight_number(row):\n",
        "  return [\n",
        "          'background-color: red; color: white'\n",
        "\n",
        "          if cell <= 0\n",
        "          else 'background-color: green; color: white'\n",
        "          for cell in row\n",
        "  ]"
      ],
      "execution_count": null,
      "outputs": []
    },
    {
      "cell_type": "code",
      "metadata": {
        "colab": {
          "base_uri": "https://localhost:8080/",
          "height": 124
        },
        "id": "QeOniY0Chwyp",
        "outputId": "86b292fc-e582-4a56-81b6-6c94b21bd762"
      },
      "source": [
        "df.style.apply(highlight_number)"
      ],
      "execution_count": null,
      "outputs": [
        {
          "output_type": "execute_result",
          "data": {
            "text/html": [
              "<style  type=\"text/css\" >\n",
              "#T_95a8851a_1a79_11ec_9b99_0242ac1c0002row0_col0,#T_95a8851a_1a79_11ec_9b99_0242ac1c0002row1_col0,#T_95a8851a_1a79_11ec_9b99_0242ac1c0002row2_col1{\n",
              "            background-color:  red;\n",
              "             color:  white;\n",
              "        }#T_95a8851a_1a79_11ec_9b99_0242ac1c0002row0_col1,#T_95a8851a_1a79_11ec_9b99_0242ac1c0002row1_col1,#T_95a8851a_1a79_11ec_9b99_0242ac1c0002row2_col0,#T_95a8851a_1a79_11ec_9b99_0242ac1c0002row3_col0,#T_95a8851a_1a79_11ec_9b99_0242ac1c0002row3_col1{\n",
              "            background-color:  green;\n",
              "             color:  white;\n",
              "        }</style><table id=\"T_95a8851a_1a79_11ec_9b99_0242ac1c0002\" ><thead>    <tr>        <th class=\"blank level0\" ></th>        <th class=\"col_heading level0 col0\" >col_1</th>        <th class=\"col_heading level0 col1\" >col_2</th>    </tr></thead><tbody>\n",
              "                <tr>\n",
              "                        <th id=\"T_95a8851a_1a79_11ec_9b99_0242ac1c0002level0_row0\" class=\"row_heading level0 row0\" >0</th>\n",
              "                        <td id=\"T_95a8851a_1a79_11ec_9b99_0242ac1c0002row0_col0\" class=\"data row0 col0\" >-5</td>\n",
              "                        <td id=\"T_95a8851a_1a79_11ec_9b99_0242ac1c0002row0_col1\" class=\"data row0 col1\" >2</td>\n",
              "            </tr>\n",
              "            <tr>\n",
              "                        <th id=\"T_95a8851a_1a79_11ec_9b99_0242ac1c0002level0_row1\" class=\"row_heading level0 row1\" >1</th>\n",
              "                        <td id=\"T_95a8851a_1a79_11ec_9b99_0242ac1c0002row1_col0\" class=\"data row1 col0\" >-2</td>\n",
              "                        <td id=\"T_95a8851a_1a79_11ec_9b99_0242ac1c0002row1_col1\" class=\"data row1 col1\" >3</td>\n",
              "            </tr>\n",
              "            <tr>\n",
              "                        <th id=\"T_95a8851a_1a79_11ec_9b99_0242ac1c0002level0_row2\" class=\"row_heading level0 row2\" >2</th>\n",
              "                        <td id=\"T_95a8851a_1a79_11ec_9b99_0242ac1c0002row2_col0\" class=\"data row2 col0\" >1</td>\n",
              "                        <td id=\"T_95a8851a_1a79_11ec_9b99_0242ac1c0002row2_col1\" class=\"data row2 col1\" >-1</td>\n",
              "            </tr>\n",
              "            <tr>\n",
              "                        <th id=\"T_95a8851a_1a79_11ec_9b99_0242ac1c0002level0_row3\" class=\"row_heading level0 row3\" >3</th>\n",
              "                        <td id=\"T_95a8851a_1a79_11ec_9b99_0242ac1c0002row3_col0\" class=\"data row3 col0\" >4</td>\n",
              "                        <td id=\"T_95a8851a_1a79_11ec_9b99_0242ac1c0002row3_col1\" class=\"data row3 col1\" >4</td>\n",
              "            </tr>\n",
              "    </tbody></table>"
            ],
            "text/plain": [
              "<pandas.io.formats.style.Styler at 0x7fd590fb2190>"
            ]
          },
          "metadata": {},
          "execution_count": 66
        }
      ]
    },
    {
      "cell_type": "code",
      "metadata": {
        "id": "RXg4-j-Shwvq",
        "colab": {
          "base_uri": "https://localhost:8080/",
          "height": 173
        },
        "outputId": "c05b1ffb-93fd-484a-a85f-d522d068314e"
      },
      "source": [
        "import numpy as np\n",
        "\n",
        "df_1 = pd.DataFrame(\n",
        "    {'col_1': [-5, -2, 1, 4], \n",
        "     'col_2': [2, 3, -1, 4], \n",
        "     'col_3': [0, 7, 5, 11],\n",
        "     'col_4': [np.nan, -.5, -.01, np.nan]}\n",
        ")\n",
        "\n",
        "df_1"
      ],
      "execution_count": null,
      "outputs": [
        {
          "output_type": "execute_result",
          "data": {
            "text/html": [
              "<div>\n",
              "<style scoped>\n",
              "    .dataframe tbody tr th:only-of-type {\n",
              "        vertical-align: middle;\n",
              "    }\n",
              "\n",
              "    .dataframe tbody tr th {\n",
              "        vertical-align: top;\n",
              "    }\n",
              "\n",
              "    .dataframe thead th {\n",
              "        text-align: right;\n",
              "    }\n",
              "</style>\n",
              "<table border=\"1\" class=\"dataframe\">\n",
              "  <thead>\n",
              "    <tr style=\"text-align: right;\">\n",
              "      <th></th>\n",
              "      <th>col_1</th>\n",
              "      <th>col_2</th>\n",
              "      <th>col_3</th>\n",
              "      <th>col_4</th>\n",
              "    </tr>\n",
              "  </thead>\n",
              "  <tbody>\n",
              "    <tr>\n",
              "      <th>0</th>\n",
              "      <td>-5</td>\n",
              "      <td>2</td>\n",
              "      <td>0</td>\n",
              "      <td>NaN</td>\n",
              "    </tr>\n",
              "    <tr>\n",
              "      <th>1</th>\n",
              "      <td>-2</td>\n",
              "      <td>3</td>\n",
              "      <td>7</td>\n",
              "      <td>-0.50</td>\n",
              "    </tr>\n",
              "    <tr>\n",
              "      <th>2</th>\n",
              "      <td>1</td>\n",
              "      <td>-1</td>\n",
              "      <td>5</td>\n",
              "      <td>-0.01</td>\n",
              "    </tr>\n",
              "    <tr>\n",
              "      <th>3</th>\n",
              "      <td>4</td>\n",
              "      <td>4</td>\n",
              "      <td>11</td>\n",
              "      <td>NaN</td>\n",
              "    </tr>\n",
              "  </tbody>\n",
              "</table>\n",
              "</div>"
            ],
            "text/plain": [
              "   col_1  col_2  col_3  col_4\n",
              "0     -5      2      0    NaN\n",
              "1     -2      3      7  -0.50\n",
              "2      1     -1      5  -0.01\n",
              "3      4      4     11    NaN"
            ]
          },
          "metadata": {},
          "execution_count": 107
        }
      ]
    },
    {
      "cell_type": "code",
      "metadata": {
        "id": "XKHXWvcA75le"
      },
      "source": [
        "def highlight_number(row):\n",
        "  return [\n",
        "          'background-color: red; color: white'\n",
        "\n",
        "          if cell <= 0\n",
        "          else 'background-color: green; color: white'\n",
        "          \n",
        "          for cell in row\n",
        "  ]"
      ],
      "execution_count": null,
      "outputs": []
    },
    {
      "cell_type": "code",
      "metadata": {
        "colab": {
          "base_uri": "https://localhost:8080/",
          "height": 124
        },
        "id": "cPBSjYYA7k2B",
        "outputId": "047de12c-0912-464f-e529-525af17ddea1"
      },
      "source": [
        "df_1.style.apply(highlight_number)"
      ],
      "execution_count": null,
      "outputs": [
        {
          "output_type": "execute_result",
          "data": {
            "text/html": [
              "<style  type=\"text/css\" >\n",
              "#T_43852d9a_1a7b_11ec_9b99_0242ac1c0002row0_col0,#T_43852d9a_1a7b_11ec_9b99_0242ac1c0002row0_col2,#T_43852d9a_1a7b_11ec_9b99_0242ac1c0002row1_col0,#T_43852d9a_1a7b_11ec_9b99_0242ac1c0002row1_col3,#T_43852d9a_1a7b_11ec_9b99_0242ac1c0002row2_col1,#T_43852d9a_1a7b_11ec_9b99_0242ac1c0002row2_col3{\n",
              "            background-color:  red;\n",
              "             color:  white;\n",
              "        }#T_43852d9a_1a7b_11ec_9b99_0242ac1c0002row0_col1,#T_43852d9a_1a7b_11ec_9b99_0242ac1c0002row0_col3,#T_43852d9a_1a7b_11ec_9b99_0242ac1c0002row1_col1,#T_43852d9a_1a7b_11ec_9b99_0242ac1c0002row1_col2,#T_43852d9a_1a7b_11ec_9b99_0242ac1c0002row2_col0,#T_43852d9a_1a7b_11ec_9b99_0242ac1c0002row2_col2,#T_43852d9a_1a7b_11ec_9b99_0242ac1c0002row3_col0,#T_43852d9a_1a7b_11ec_9b99_0242ac1c0002row3_col1,#T_43852d9a_1a7b_11ec_9b99_0242ac1c0002row3_col2,#T_43852d9a_1a7b_11ec_9b99_0242ac1c0002row3_col3{\n",
              "            background-color:  green;\n",
              "             color:  white;\n",
              "        }</style><table id=\"T_43852d9a_1a7b_11ec_9b99_0242ac1c0002\" ><thead>    <tr>        <th class=\"blank level0\" ></th>        <th class=\"col_heading level0 col0\" >col_1</th>        <th class=\"col_heading level0 col1\" >col_2</th>        <th class=\"col_heading level0 col2\" >col_3</th>        <th class=\"col_heading level0 col3\" >col_4</th>    </tr></thead><tbody>\n",
              "                <tr>\n",
              "                        <th id=\"T_43852d9a_1a7b_11ec_9b99_0242ac1c0002level0_row0\" class=\"row_heading level0 row0\" >0</th>\n",
              "                        <td id=\"T_43852d9a_1a7b_11ec_9b99_0242ac1c0002row0_col0\" class=\"data row0 col0\" >-5</td>\n",
              "                        <td id=\"T_43852d9a_1a7b_11ec_9b99_0242ac1c0002row0_col1\" class=\"data row0 col1\" >2</td>\n",
              "                        <td id=\"T_43852d9a_1a7b_11ec_9b99_0242ac1c0002row0_col2\" class=\"data row0 col2\" >0</td>\n",
              "                        <td id=\"T_43852d9a_1a7b_11ec_9b99_0242ac1c0002row0_col3\" class=\"data row0 col3\" >nan</td>\n",
              "            </tr>\n",
              "            <tr>\n",
              "                        <th id=\"T_43852d9a_1a7b_11ec_9b99_0242ac1c0002level0_row1\" class=\"row_heading level0 row1\" >1</th>\n",
              "                        <td id=\"T_43852d9a_1a7b_11ec_9b99_0242ac1c0002row1_col0\" class=\"data row1 col0\" >-2</td>\n",
              "                        <td id=\"T_43852d9a_1a7b_11ec_9b99_0242ac1c0002row1_col1\" class=\"data row1 col1\" >3</td>\n",
              "                        <td id=\"T_43852d9a_1a7b_11ec_9b99_0242ac1c0002row1_col2\" class=\"data row1 col2\" >7</td>\n",
              "                        <td id=\"T_43852d9a_1a7b_11ec_9b99_0242ac1c0002row1_col3\" class=\"data row1 col3\" >-0.500000</td>\n",
              "            </tr>\n",
              "            <tr>\n",
              "                        <th id=\"T_43852d9a_1a7b_11ec_9b99_0242ac1c0002level0_row2\" class=\"row_heading level0 row2\" >2</th>\n",
              "                        <td id=\"T_43852d9a_1a7b_11ec_9b99_0242ac1c0002row2_col0\" class=\"data row2 col0\" >1</td>\n",
              "                        <td id=\"T_43852d9a_1a7b_11ec_9b99_0242ac1c0002row2_col1\" class=\"data row2 col1\" >-1</td>\n",
              "                        <td id=\"T_43852d9a_1a7b_11ec_9b99_0242ac1c0002row2_col2\" class=\"data row2 col2\" >5</td>\n",
              "                        <td id=\"T_43852d9a_1a7b_11ec_9b99_0242ac1c0002row2_col3\" class=\"data row2 col3\" >-0.010000</td>\n",
              "            </tr>\n",
              "            <tr>\n",
              "                        <th id=\"T_43852d9a_1a7b_11ec_9b99_0242ac1c0002level0_row3\" class=\"row_heading level0 row3\" >3</th>\n",
              "                        <td id=\"T_43852d9a_1a7b_11ec_9b99_0242ac1c0002row3_col0\" class=\"data row3 col0\" >4</td>\n",
              "                        <td id=\"T_43852d9a_1a7b_11ec_9b99_0242ac1c0002row3_col1\" class=\"data row3 col1\" >4</td>\n",
              "                        <td id=\"T_43852d9a_1a7b_11ec_9b99_0242ac1c0002row3_col2\" class=\"data row3 col2\" >11</td>\n",
              "                        <td id=\"T_43852d9a_1a7b_11ec_9b99_0242ac1c0002row3_col3\" class=\"data row3 col3\" >nan</td>\n",
              "            </tr>\n",
              "    </tbody></table>"
            ],
            "text/plain": [
              "<pandas.io.formats.style.Styler at 0x7fd59106af90>"
            ]
          },
          "metadata": {},
          "execution_count": 109
        }
      ]
    },
    {
      "cell_type": "code",
      "metadata": {
        "id": "b06roVwW7kus"
      },
      "source": [
        ""
      ],
      "execution_count": null,
      "outputs": []
    },
    {
      "cell_type": "markdown",
      "metadata": {
        "id": "kEisUgbeup40"
      },
      "source": [
        "_**<center>Atribuir valores a várias novas colunas<center>**_\n",
        "\n",
        "Se você quiser atribuir valores a várias colunas novas, em vez de atribuí-los separadamente, você pode fazer tudo em uma linha de código com ``df.assign``.\n",
        "\n",
        "No código abaixo, primeiro criei col_3 e, em seguida, usei col_3 para criar col_4. Tudo está em um linha de código."
      ]
    },
    {
      "cell_type": "code",
      "metadata": {
        "colab": {
          "base_uri": "https://localhost:8080/",
          "height": 111
        },
        "id": "rdD9Kdzxkfcp",
        "outputId": "e432a16d-edcd-4b4c-ddd0-f533342817b2"
      },
      "source": [
        "df = pd.DataFrame(\n",
        "    {'col_1': [1,2], \n",
        "     'col_2': [3,4]}\n",
        ")\n",
        "\n",
        "df = df.assign(col_3 = lambda x: \n",
        "               x.col_1 * 100 + x.col_2).assign(col_4 = lambda x: \n",
        "                                               x.col_2 * x.col_3)\n",
        "\n",
        "df"
      ],
      "execution_count": null,
      "outputs": [
        {
          "output_type": "execute_result",
          "data": {
            "text/html": [
              "<div>\n",
              "<style scoped>\n",
              "    .dataframe tbody tr th:only-of-type {\n",
              "        vertical-align: middle;\n",
              "    }\n",
              "\n",
              "    .dataframe tbody tr th {\n",
              "        vertical-align: top;\n",
              "    }\n",
              "\n",
              "    .dataframe thead th {\n",
              "        text-align: right;\n",
              "    }\n",
              "</style>\n",
              "<table border=\"1\" class=\"dataframe\">\n",
              "  <thead>\n",
              "    <tr style=\"text-align: right;\">\n",
              "      <th></th>\n",
              "      <th>col_1</th>\n",
              "      <th>col_2</th>\n",
              "      <th>col_3</th>\n",
              "      <th>col_4</th>\n",
              "    </tr>\n",
              "  </thead>\n",
              "  <tbody>\n",
              "    <tr>\n",
              "      <th>0</th>\n",
              "      <td>1</td>\n",
              "      <td>3</td>\n",
              "      <td>103</td>\n",
              "      <td>309</td>\n",
              "    </tr>\n",
              "    <tr>\n",
              "      <th>1</th>\n",
              "      <td>2</td>\n",
              "      <td>4</td>\n",
              "      <td>204</td>\n",
              "      <td>816</td>\n",
              "    </tr>\n",
              "  </tbody>\n",
              "</table>\n",
              "</div>"
            ],
            "text/plain": [
              "   col_1  col_2  col_3  col_4\n",
              "0      1      3    103    309\n",
              "1      2      4    204    816"
            ]
          },
          "metadata": {},
          "execution_count": 45
        }
      ]
    },
    {
      "cell_type": "code",
      "metadata": {
        "id": "QpOYDUjWkfaT"
      },
      "source": [
        ""
      ],
      "execution_count": null,
      "outputs": []
    },
    {
      "cell_type": "markdown",
      "metadata": {
        "id": "voIFeY_PvHIB"
      },
      "source": [
        "_**<center>Reduza a memória de pandas.DataFrame<center>**_\n",
        "\n",
        "Se você quiser reduzir a memória do seu DataFrame do pandas, comece alterando os dados tipo de coluna. Se sua variável categórica tiver baixa cardinalidade, altere o tipo de dados para categoria como abaixo."
      ]
    },
    {
      "cell_type": "code",
      "metadata": {
        "colab": {
          "base_uri": "https://localhost:8080/"
        },
        "id": "4agXnGlukfYG",
        "outputId": "29da4fcf-0772-4d77-bfe7-afba2c5b0dbd"
      },
      "source": [
        "from sklearn.datasets import load_iris\n",
        "\n",
        "data = load_iris()\n",
        "df = pd.DataFrame(data.data, columns=data.feature_names)\n",
        "# X, y = load_iris(as_frame=True, return_X_y=True)\n",
        "# df = pd.concat([X, pd.DataFrame(y, columns=[\"target\"])], axis=1)\n",
        "df.memory_usage()"
      ],
      "execution_count": null,
      "outputs": [
        {
          "output_type": "execute_result",
          "data": {
            "text/plain": [
              "Index                 128\n",
              "sepal length (cm)    1200\n",
              "sepal width (cm)     1200\n",
              "petal length (cm)    1200\n",
              "petal width (cm)     1200\n",
              "dtype: int64"
            ]
          },
          "metadata": {},
          "execution_count": 9
        }
      ]
    },
    {
      "cell_type": "code",
      "metadata": {
        "colab": {
          "base_uri": "https://localhost:8080/"
        },
        "id": "i7lc5jmbkfWR",
        "outputId": "210096bc-5e8c-4a64-cb73-7dfa46b31a82"
      },
      "source": [
        "df = df.astype('category')\n",
        "df.memory_usage()"
      ],
      "execution_count": null,
      "outputs": [
        {
          "output_type": "execute_result",
          "data": {
            "text/plain": [
              "Index                 128\n",
              "sepal length (cm)    1710\n",
              "sepal width (cm)      974\n",
              "petal length (cm)    1774\n",
              "petal width (cm)      966\n",
              "dtype: int64"
            ]
          },
          "metadata": {},
          "execution_count": 10
        }
      ]
    },
    {
      "cell_type": "markdown",
      "metadata": {
        "id": "s2MflM_Pvcng"
      },
      "source": [
        "A memória agora está reduzida a quase um quinto do que era!"
      ]
    },
    {
      "cell_type": "code",
      "metadata": {
        "id": "n3120A5NkfTS"
      },
      "source": [
        ""
      ],
      "execution_count": null,
      "outputs": []
    },
    {
      "cell_type": "markdown",
      "metadata": {
        "id": "XrGQyveCvmTK"
      },
      "source": [
        "_**<center>pandas.DataFrame.explode: Transforme cada elemento em\n",
        "um iterável para uma linha.<center>**_\n",
        "\n",
        "Ao trabalhar com o DataFrame do pandas, se você quiser transformar cada elemento em um iterável para uma linha, use o metódo ``explode``."
      ]
    },
    {
      "cell_type": "code",
      "metadata": {
        "colab": {
          "base_uri": "https://localhost:8080/",
          "height": 111
        },
        "id": "NRBl5cCWkfQl",
        "outputId": "a4be0c14-54cd-4eaf-fafe-89e3087e4d36"
      },
      "source": [
        "df = pd.DataFrame({'a': [[1, 2], [4, 5]], 'b': [11, 13]})\n",
        "df\n"
      ],
      "execution_count": null,
      "outputs": [
        {
          "output_type": "execute_result",
          "data": {
            "text/html": [
              "<div>\n",
              "<style scoped>\n",
              "    .dataframe tbody tr th:only-of-type {\n",
              "        vertical-align: middle;\n",
              "    }\n",
              "\n",
              "    .dataframe tbody tr th {\n",
              "        vertical-align: top;\n",
              "    }\n",
              "\n",
              "    .dataframe thead th {\n",
              "        text-align: right;\n",
              "    }\n",
              "</style>\n",
              "<table border=\"1\" class=\"dataframe\">\n",
              "  <thead>\n",
              "    <tr style=\"text-align: right;\">\n",
              "      <th></th>\n",
              "      <th>a</th>\n",
              "      <th>b</th>\n",
              "    </tr>\n",
              "  </thead>\n",
              "  <tbody>\n",
              "    <tr>\n",
              "      <th>0</th>\n",
              "      <td>[1, 2]</td>\n",
              "      <td>11</td>\n",
              "    </tr>\n",
              "    <tr>\n",
              "      <th>1</th>\n",
              "      <td>[4, 5]</td>\n",
              "      <td>13</td>\n",
              "    </tr>\n",
              "  </tbody>\n",
              "</table>\n",
              "</div>"
            ],
            "text/plain": [
              "        a   b\n",
              "0  [1, 2]  11\n",
              "1  [4, 5]  13"
            ]
          },
          "metadata": {},
          "execution_count": 46
        }
      ]
    },
    {
      "cell_type": "code",
      "metadata": {
        "colab": {
          "base_uri": "https://localhost:8080/",
          "height": 173
        },
        "id": "O_OssRCL0kPr",
        "outputId": "8f142e26-4c13-4197-f83b-cbef821b2a16"
      },
      "source": [
        "df.explode('a')"
      ],
      "execution_count": null,
      "outputs": [
        {
          "output_type": "execute_result",
          "data": {
            "text/html": [
              "<div>\n",
              "<style scoped>\n",
              "    .dataframe tbody tr th:only-of-type {\n",
              "        vertical-align: middle;\n",
              "    }\n",
              "\n",
              "    .dataframe tbody tr th {\n",
              "        vertical-align: top;\n",
              "    }\n",
              "\n",
              "    .dataframe thead th {\n",
              "        text-align: right;\n",
              "    }\n",
              "</style>\n",
              "<table border=\"1\" class=\"dataframe\">\n",
              "  <thead>\n",
              "    <tr style=\"text-align: right;\">\n",
              "      <th></th>\n",
              "      <th>a</th>\n",
              "      <th>b</th>\n",
              "    </tr>\n",
              "  </thead>\n",
              "  <tbody>\n",
              "    <tr>\n",
              "      <th>0</th>\n",
              "      <td>1</td>\n",
              "      <td>11</td>\n",
              "    </tr>\n",
              "    <tr>\n",
              "      <th>0</th>\n",
              "      <td>2</td>\n",
              "      <td>11</td>\n",
              "    </tr>\n",
              "    <tr>\n",
              "      <th>1</th>\n",
              "      <td>4</td>\n",
              "      <td>13</td>\n",
              "    </tr>\n",
              "    <tr>\n",
              "      <th>1</th>\n",
              "      <td>5</td>\n",
              "      <td>13</td>\n",
              "    </tr>\n",
              "  </tbody>\n",
              "</table>\n",
              "</div>"
            ],
            "text/plain": [
              "   a   b\n",
              "0  1  11\n",
              "0  2  11\n",
              "1  4  13\n",
              "1  5  13"
            ]
          },
          "metadata": {},
          "execution_count": 47
        }
      ]
    },
    {
      "cell_type": "code",
      "metadata": {
        "id": "eARr3Svp0kNV"
      },
      "source": [
        ""
      ],
      "execution_count": null,
      "outputs": []
    },
    {
      "cell_type": "markdown",
      "metadata": {
        "id": "9Lc3Nj9RwAMk"
      },
      "source": [
        "_**<center>pandas.cut: Bin os valores de um DataFrame em discretos\n",
        "intervalos.<center>**_\n",
        "\n",
        "Se você quiser agrupar os valores do seu Dataframe em intervalos discretos, use o metódo ``pd.cut``."
      ]
    },
    {
      "cell_type": "code",
      "metadata": {
        "id": "ZL8Akrfw0kKu",
        "colab": {
          "base_uri": "https://localhost:8080/",
          "height": 235
        },
        "outputId": "e2b92f9b-fb96-4bfc-e226-492ad7899675"
      },
      "source": [
        "df = pd.DataFrame(\n",
        "    {'a': [1, 3, 7, 11, 14, 17]}\n",
        ")\n",
        "\n",
        "bins = [0, 5, 10, 15, 20]\n",
        "\n",
        "df['binned'] = pd.cut(df['a'], bins=bins)\n",
        "df"
      ],
      "execution_count": null,
      "outputs": [
        {
          "output_type": "execute_result",
          "data": {
            "text/html": [
              "<div>\n",
              "<style scoped>\n",
              "    .dataframe tbody tr th:only-of-type {\n",
              "        vertical-align: middle;\n",
              "    }\n",
              "\n",
              "    .dataframe tbody tr th {\n",
              "        vertical-align: top;\n",
              "    }\n",
              "\n",
              "    .dataframe thead th {\n",
              "        text-align: right;\n",
              "    }\n",
              "</style>\n",
              "<table border=\"1\" class=\"dataframe\">\n",
              "  <thead>\n",
              "    <tr style=\"text-align: right;\">\n",
              "      <th></th>\n",
              "      <th>a</th>\n",
              "      <th>binned</th>\n",
              "    </tr>\n",
              "  </thead>\n",
              "  <tbody>\n",
              "    <tr>\n",
              "      <th>0</th>\n",
              "      <td>1</td>\n",
              "      <td>(0, 5]</td>\n",
              "    </tr>\n",
              "    <tr>\n",
              "      <th>1</th>\n",
              "      <td>3</td>\n",
              "      <td>(0, 5]</td>\n",
              "    </tr>\n",
              "    <tr>\n",
              "      <th>2</th>\n",
              "      <td>7</td>\n",
              "      <td>(5, 10]</td>\n",
              "    </tr>\n",
              "    <tr>\n",
              "      <th>3</th>\n",
              "      <td>11</td>\n",
              "      <td>(10, 15]</td>\n",
              "    </tr>\n",
              "    <tr>\n",
              "      <th>4</th>\n",
              "      <td>14</td>\n",
              "      <td>(10, 15]</td>\n",
              "    </tr>\n",
              "    <tr>\n",
              "      <th>5</th>\n",
              "      <td>17</td>\n",
              "      <td>(15, 20]</td>\n",
              "    </tr>\n",
              "  </tbody>\n",
              "</table>\n",
              "</div>"
            ],
            "text/plain": [
              "    a    binned\n",
              "0   1    (0, 5]\n",
              "1   3    (0, 5]\n",
              "2   7   (5, 10]\n",
              "3  11  (10, 15]\n",
              "4  14  (10, 15]\n",
              "5  17  (15, 20]"
            ]
          },
          "metadata": {},
          "execution_count": 48
        }
      ]
    },
    {
      "cell_type": "code",
      "metadata": {
        "id": "HwOU14gc0kGd"
      },
      "source": [
        ""
      ],
      "execution_count": null,
      "outputs": []
    },
    {
      "cell_type": "markdown",
      "metadata": {
        "id": "lLsCEgocwbLs"
      },
      "source": [
        "_**<center>Avançar Preencha os pandas: Use o valor anterior para preencher\n",
        "o valor atual ausente.<center>**_\n",
        "\n",
        "Se você quiser usar o valor anterior em uma coluna ou linha para preencher o valor atual em falta em um DataFrame do pandas, use `` df.fillna(method='ffill')``. ffill significa para a frente preencher."
      ]
    },
    {
      "cell_type": "code",
      "metadata": {
        "id": "q4cAdiB60kET",
        "colab": {
          "base_uri": "https://localhost:8080/",
          "height": 142
        },
        "outputId": "2436d599-ebd6-4dac-e092-42da628ee807"
      },
      "source": [
        "import numpy as np\n",
        "\n",
        "df = pd.DataFrame(\n",
        "    {'a': [1, np.nan, 3], \n",
        "     'b': [4, 5, np.nan], \n",
        "     'c': [1 ,2 , 3]}\n",
        ")\n",
        "\n",
        "df"
      ],
      "execution_count": null,
      "outputs": [
        {
          "output_type": "execute_result",
          "data": {
            "text/html": [
              "<div>\n",
              "<style scoped>\n",
              "    .dataframe tbody tr th:only-of-type {\n",
              "        vertical-align: middle;\n",
              "    }\n",
              "\n",
              "    .dataframe tbody tr th {\n",
              "        vertical-align: top;\n",
              "    }\n",
              "\n",
              "    .dataframe thead th {\n",
              "        text-align: right;\n",
              "    }\n",
              "</style>\n",
              "<table border=\"1\" class=\"dataframe\">\n",
              "  <thead>\n",
              "    <tr style=\"text-align: right;\">\n",
              "      <th></th>\n",
              "      <th>a</th>\n",
              "      <th>b</th>\n",
              "      <th>c</th>\n",
              "    </tr>\n",
              "  </thead>\n",
              "  <tbody>\n",
              "    <tr>\n",
              "      <th>0</th>\n",
              "      <td>1.0</td>\n",
              "      <td>4.0</td>\n",
              "      <td>1</td>\n",
              "    </tr>\n",
              "    <tr>\n",
              "      <th>1</th>\n",
              "      <td>NaN</td>\n",
              "      <td>5.0</td>\n",
              "      <td>2</td>\n",
              "    </tr>\n",
              "    <tr>\n",
              "      <th>2</th>\n",
              "      <td>3.0</td>\n",
              "      <td>NaN</td>\n",
              "      <td>3</td>\n",
              "    </tr>\n",
              "  </tbody>\n",
              "</table>\n",
              "</div>"
            ],
            "text/plain": [
              "     a    b  c\n",
              "0  1.0  4.0  1\n",
              "1  NaN  5.0  2\n",
              "2  3.0  NaN  3"
            ]
          },
          "metadata": {},
          "execution_count": 49
        }
      ]
    },
    {
      "cell_type": "code",
      "metadata": {
        "id": "Cb8ASa-V0kBV",
        "colab": {
          "base_uri": "https://localhost:8080/",
          "height": 142
        },
        "outputId": "3029ea0c-9cb7-489d-fd21-35553b0213b2"
      },
      "source": [
        "df = df.fillna(method='ffill')\n",
        "df"
      ],
      "execution_count": null,
      "outputs": [
        {
          "output_type": "execute_result",
          "data": {
            "text/html": [
              "<div>\n",
              "<style scoped>\n",
              "    .dataframe tbody tr th:only-of-type {\n",
              "        vertical-align: middle;\n",
              "    }\n",
              "\n",
              "    .dataframe tbody tr th {\n",
              "        vertical-align: top;\n",
              "    }\n",
              "\n",
              "    .dataframe thead th {\n",
              "        text-align: right;\n",
              "    }\n",
              "</style>\n",
              "<table border=\"1\" class=\"dataframe\">\n",
              "  <thead>\n",
              "    <tr style=\"text-align: right;\">\n",
              "      <th></th>\n",
              "      <th>a</th>\n",
              "      <th>b</th>\n",
              "      <th>c</th>\n",
              "    </tr>\n",
              "  </thead>\n",
              "  <tbody>\n",
              "    <tr>\n",
              "      <th>0</th>\n",
              "      <td>1.0</td>\n",
              "      <td>4.0</td>\n",
              "      <td>1</td>\n",
              "    </tr>\n",
              "    <tr>\n",
              "      <th>1</th>\n",
              "      <td>1.0</td>\n",
              "      <td>5.0</td>\n",
              "      <td>2</td>\n",
              "    </tr>\n",
              "    <tr>\n",
              "      <th>2</th>\n",
              "      <td>3.0</td>\n",
              "      <td>5.0</td>\n",
              "      <td>3</td>\n",
              "    </tr>\n",
              "  </tbody>\n",
              "</table>\n",
              "</div>"
            ],
            "text/plain": [
              "     a    b  c\n",
              "0  1.0  4.0  1\n",
              "1  1.0  5.0  2\n",
              "2  3.0  5.0  3"
            ]
          },
          "metadata": {},
          "execution_count": 50
        }
      ]
    },
    {
      "cell_type": "code",
      "metadata": {
        "id": "btq8iQQK0j-m"
      },
      "source": [
        ""
      ],
      "execution_count": null,
      "outputs": []
    },
    {
      "cell_type": "markdown",
      "metadata": {
        "id": "mBf7urAzxQxO"
      },
      "source": [
        "_**<center>pandas.pivot_table:Transforme seu DataFrame em uma tabela dinâmica.<center>**_\n",
        "\n",
        "Uma tabela dinâmica é útil para resumir e analisar os padrões em seus dados. Se você quiser transforme seu DataFrame em uma tabela dinâmica, use `` dpandas.pivot_table``. "
      ]
    },
    {
      "cell_type": "code",
      "metadata": {
        "colab": {
          "base_uri": "https://localhost:8080/",
          "height": 204
        },
        "id": "vL0GQuZEhjiR",
        "outputId": "1c55a1a0-41fa-444c-f390-2e27db4b2854"
      },
      "source": [
        "df = pd.DataFrame(\n",
        "    {'item': ['apple', 'apple', 'apple', 'apple', 'apple'], \n",
        "     'size': ['small', 'small', 'large', 'large', 'large'],\n",
        "     'location': ['Walmart', 'Aldi', 'Walmart', 'Aldi', 'Aldi'],\n",
        "     'price': [3, 2, 4, 3, 2.5]\n",
        "    }\n",
        ")\n",
        "\n",
        "df"
      ],
      "execution_count": null,
      "outputs": [
        {
          "output_type": "execute_result",
          "data": {
            "text/html": [
              "<div>\n",
              "<style scoped>\n",
              "    .dataframe tbody tr th:only-of-type {\n",
              "        vertical-align: middle;\n",
              "    }\n",
              "\n",
              "    .dataframe tbody tr th {\n",
              "        vertical-align: top;\n",
              "    }\n",
              "\n",
              "    .dataframe thead th {\n",
              "        text-align: right;\n",
              "    }\n",
              "</style>\n",
              "<table border=\"1\" class=\"dataframe\">\n",
              "  <thead>\n",
              "    <tr style=\"text-align: right;\">\n",
              "      <th></th>\n",
              "      <th>item</th>\n",
              "      <th>size</th>\n",
              "      <th>location</th>\n",
              "      <th>price</th>\n",
              "    </tr>\n",
              "  </thead>\n",
              "  <tbody>\n",
              "    <tr>\n",
              "      <th>0</th>\n",
              "      <td>apple</td>\n",
              "      <td>small</td>\n",
              "      <td>Walmart</td>\n",
              "      <td>3.0</td>\n",
              "    </tr>\n",
              "    <tr>\n",
              "      <th>1</th>\n",
              "      <td>apple</td>\n",
              "      <td>small</td>\n",
              "      <td>Aldi</td>\n",
              "      <td>2.0</td>\n",
              "    </tr>\n",
              "    <tr>\n",
              "      <th>2</th>\n",
              "      <td>apple</td>\n",
              "      <td>large</td>\n",
              "      <td>Walmart</td>\n",
              "      <td>4.0</td>\n",
              "    </tr>\n",
              "    <tr>\n",
              "      <th>3</th>\n",
              "      <td>apple</td>\n",
              "      <td>large</td>\n",
              "      <td>Aldi</td>\n",
              "      <td>3.0</td>\n",
              "    </tr>\n",
              "    <tr>\n",
              "      <th>4</th>\n",
              "      <td>apple</td>\n",
              "      <td>large</td>\n",
              "      <td>Aldi</td>\n",
              "      <td>2.5</td>\n",
              "    </tr>\n",
              "  </tbody>\n",
              "</table>\n",
              "</div>"
            ],
            "text/plain": [
              "    item   size location  price\n",
              "0  apple  small  Walmart    3.0\n",
              "1  apple  small     Aldi    2.0\n",
              "2  apple  large  Walmart    4.0\n",
              "3  apple  large     Aldi    3.0\n",
              "4  apple  large     Aldi    2.5"
            ]
          },
          "metadata": {},
          "execution_count": 51
        }
      ]
    },
    {
      "cell_type": "code",
      "metadata": {
        "colab": {
          "base_uri": "https://localhost:8080/",
          "height": 142
        },
        "id": "5z7mmR3Nhjew",
        "outputId": "eb4404c3-9b4d-4813-b991-395fc36784b3"
      },
      "source": [
        "pivot = pd.pivot_table(\n",
        "    df, values='price', index=['item', 'size'], \n",
        "    columns=['location'], aggfunc='mean'\n",
        ")\n",
        "\n",
        "pivot"
      ],
      "execution_count": null,
      "outputs": [
        {
          "output_type": "execute_result",
          "data": {
            "text/html": [
              "<div>\n",
              "<style scoped>\n",
              "    .dataframe tbody tr th:only-of-type {\n",
              "        vertical-align: middle;\n",
              "    }\n",
              "\n",
              "    .dataframe tbody tr th {\n",
              "        vertical-align: top;\n",
              "    }\n",
              "\n",
              "    .dataframe thead th {\n",
              "        text-align: right;\n",
              "    }\n",
              "</style>\n",
              "<table border=\"1\" class=\"dataframe\">\n",
              "  <thead>\n",
              "    <tr style=\"text-align: right;\">\n",
              "      <th></th>\n",
              "      <th>location</th>\n",
              "      <th>Aldi</th>\n",
              "      <th>Walmart</th>\n",
              "    </tr>\n",
              "    <tr>\n",
              "      <th>item</th>\n",
              "      <th>size</th>\n",
              "      <th></th>\n",
              "      <th></th>\n",
              "    </tr>\n",
              "  </thead>\n",
              "  <tbody>\n",
              "    <tr>\n",
              "      <th rowspan=\"2\" valign=\"top\">apple</th>\n",
              "      <th>large</th>\n",
              "      <td>2.75</td>\n",
              "      <td>4.0</td>\n",
              "    </tr>\n",
              "    <tr>\n",
              "      <th>small</th>\n",
              "      <td>2.00</td>\n",
              "      <td>3.0</td>\n",
              "    </tr>\n",
              "  </tbody>\n",
              "</table>\n",
              "</div>"
            ],
            "text/plain": [
              "location     Aldi  Walmart\n",
              "item  size                \n",
              "apple large  2.75      4.0\n",
              "      small  2.00      3.0"
            ]
          },
          "metadata": {},
          "execution_count": 52
        }
      ]
    },
    {
      "cell_type": "code",
      "metadata": {
        "id": "UtLM38XPhjc1"
      },
      "source": [
        ""
      ],
      "execution_count": null,
      "outputs": []
    },
    {
      "cell_type": "code",
      "metadata": {
        "id": "aDu7qeYDhjY_"
      },
      "source": [
        ""
      ],
      "execution_count": null,
      "outputs": []
    },
    {
      "cell_type": "code",
      "metadata": {
        "id": "n2BpNsXphjV3"
      },
      "source": [
        "def personal_data():\n",
        "  name = input('Digite seu nome:  ')\n",
        "  age = input('Digite sua idade: ')\n",
        "  return name + ' ' + age\n"
      ],
      "execution_count": null,
      "outputs": []
    },
    {
      "cell_type": "code",
      "metadata": {
        "id": "ATpJYPpihjQe",
        "colab": {
          "base_uri": "https://localhost:8080/",
          "height": 69
        },
        "outputId": "bb360950-b281-48a4-a36b-3b67fffb570c"
      },
      "source": [
        "personal_data()"
      ],
      "execution_count": null,
      "outputs": [
        {
          "name": "stdout",
          "output_type": "stream",
          "text": [
            "Digite seu nome:  Fernando\n",
            "Digite sua idade: 44\n"
          ]
        },
        {
          "output_type": "execute_result",
          "data": {
            "application/vnd.google.colaboratory.intrinsic+json": {
              "type": "string"
            },
            "text/plain": [
              "'Fernando 44'"
            ]
          },
          "metadata": {},
          "execution_count": 14
        }
      ]
    },
    {
      "cell_type": "code",
      "metadata": {
        "id": "NTKHrm7QArms"
      },
      "source": [
        ""
      ],
      "execution_count": null,
      "outputs": []
    },
    {
      "cell_type": "code",
      "metadata": {
        "id": "cbq0Dp52hjNi"
      },
      "source": [
        ""
      ],
      "execution_count": null,
      "outputs": []
    },
    {
      "cell_type": "code",
      "metadata": {
        "id": "Biw2CtjbhjKT"
      },
      "source": [
        ""
      ],
      "execution_count": null,
      "outputs": []
    },
    {
      "cell_type": "code",
      "metadata": {
        "id": "wnp-XysMhjHj"
      },
      "source": [
        ""
      ],
      "execution_count": null,
      "outputs": []
    },
    {
      "cell_type": "code",
      "metadata": {
        "id": "KF7w1w5BhjEu"
      },
      "source": [
        ""
      ],
      "execution_count": null,
      "outputs": []
    },
    {
      "cell_type": "code",
      "metadata": {
        "id": "WCzqs8R5hjB7"
      },
      "source": [
        ""
      ],
      "execution_count": null,
      "outputs": []
    },
    {
      "cell_type": "code",
      "metadata": {
        "id": "oSTJXuOVhi9T"
      },
      "source": [
        ""
      ],
      "execution_count": null,
      "outputs": []
    },
    {
      "cell_type": "code",
      "metadata": {
        "id": "cgM6KFD1hi6-"
      },
      "source": [
        ""
      ],
      "execution_count": null,
      "outputs": []
    },
    {
      "cell_type": "code",
      "metadata": {
        "id": "mkBncK0Ihi4F"
      },
      "source": [
        ""
      ],
      "execution_count": null,
      "outputs": []
    },
    {
      "cell_type": "code",
      "metadata": {
        "id": "9rrppfvPhi1O"
      },
      "source": [
        ""
      ],
      "execution_count": null,
      "outputs": []
    }
  ]
}